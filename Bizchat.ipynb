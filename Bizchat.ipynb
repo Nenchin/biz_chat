{
 "cells": [
  {
   "cell_type": "code",
   "execution_count": 1,
   "id": "2c48ece7",
   "metadata": {},
   "outputs": [],
   "source": [
    "import constants\n",
    "from langchain_openai import ChatOpenAI\n",
    "from langchain_core.prompts import ChatPromptTemplate\n",
    "from langchain_core.output_parsers import JsonOutputParser"
   ]
  },
  {
   "cell_type": "code",
   "execution_count": 2,
   "id": "b4a6394f",
   "metadata": {},
   "outputs": [],
   "source": [
    "llm = ChatOpenAI(model = \"gpt-3.5-turbo\", openai_api_key=\"sk-\")"
   ]
  },
  {
   "cell_type": "code",
   "execution_count": 4,
   "id": "1dfbbe01",
   "metadata": {},
   "outputs": [],
   "source": [
    "prompt = ChatPromptTemplate.from_messages([\n",
    "    (\"system\", \"\"\"\n",
    "         You are Bridge AI. You are a superintelligent AI that answers questions about Business Ideas, analyses, \n",
    "                 organises these business ideas and prepares pitch deck and business model canvas for these business ideas.\n",
    "\n",
    "        You are:\n",
    "        - helpful, friendly, and efficient\n",
    "        - good at answering both simple and complex business questions in simple language and professional terms\n",
    "        - an expert in writing business pitch decks in form of a slide and business model canvas in tabular form\n",
    "        - able to infer the intent of the user's question\n",
    "        The user will ask business related questions like asking for your help in creating business pitch deck and business\n",
    "         model canvas (BMC), and you will provide them with a profession pitch deck and business model canvas.\n",
    "         \n",
    "         You will also provide business market analysis.\n",
    "         The result output should be displayed in JSON format. Remember that the figures, calculations and country's currency are very\n",
    "        important and must be present in the result. Do not forget to provide the bmc or pitch deck as required by the user.\n",
    "\n",
    "        When the user asks their question, you provide the answer using the details provided. The country should determine the currency.\n",
    "        If the user doesn't a clear idea on any detail of the business, you are creative so you are to fill those details for them.\n",
    "        You will answer the question like a professional, you will give the BMC answer in a professional tabular form\n",
    "         like the one in the files available to you.\n",
    "        You will also arrange the pitch deck in form of a slide for easy understanding. You must provide a simple yet detailed risk analysis\n",
    "        on the business idea.\n",
    "        \n",
    "    \"\"\"),\n",
    "    (\"user\", \"\"\"\n",
    "            I have a business idea in the {business_industry} industry and the problems my business will solve are {problems}\n",
    "              and my business will be located in {location} in {country} and I'll be providing these solutions; {solutions} through this \n",
    "             business. My target audience or customers are {target_audience}. The main expenses I am anticipating in the starting\n",
    "             phase and operation of the business are {main_expenses}. My business will be preferred by customers over businesses \n",
    "             in the {business_industry} industry because of the following reasons; {business_uniqueness}. I plan on generating money for my business \n",
    "             through the following ways; {income_generation_strategy}.\n",
    "             \n",
    "             Create a professional {bmc_pitch_deck} for this business and do a market analysis for the business with the \n",
    "             details I've provided. And create a financial proposition for my business with figures from the details I provided, \n",
    "             know that I want to make a monthly profit of {monthly_profit}, create a financial proposition that will help me to get the\n",
    "             month profit and break it down into a daily projection.\n",
    "             \n",
    "     \"\"\")\n",
    "])"
   ]
  },
  {
   "cell_type": "code",
   "execution_count": 5,
   "id": "99c86e0e",
   "metadata": {},
   "outputs": [],
   "source": [
    "output_parser = JsonOutputParser()"
   ]
  },
  {
   "cell_type": "code",
   "execution_count": 6,
   "id": "5ef9c124",
   "metadata": {},
   "outputs": [],
   "source": [
    "chain = prompt | llm | output_parser"
   ]
  },
  {
   "cell_type": "code",
   "execution_count": 8,
   "id": "c700fea0",
   "metadata": {},
   "outputs": [
    {
     "data": {
      "text/plain": [
       "{'business_idea': 'Ice Block Production and Sales Business',\n",
       " 'location': 'Accra, Ghana',\n",
       " 'problem_solved': 'Addressing the lack of ice blocks due to power outages in the area',\n",
       " 'target_audience': 'Households, businesses selling drinks, event organizers',\n",
       " 'unique_selling_proposition': 'Solar-powered deep freezer for sustainable ice block production',\n",
       " 'revenue_streams': 'Sales of ice blocks',\n",
       " 'startup_expenses': {'deep_freezer': '5000 USD',\n",
       "  'solar_setup': '3000 USD',\n",
       "  'logistics': '2000 USD'},\n",
       " 'monthly_profit_goal': 80000,\n",
       " 'pitch_deck': {'title': 'Ice Block Production and Sales Business Pitch Deck',\n",
       "  'slides': [{'slide_number': 1,\n",
       "    'title': 'Problem Statement',\n",
       "    'content': 'Power outages in Accra lead to a shortage of ice blocks for cooling drinks.'},\n",
       "   {'slide_number': 2,\n",
       "    'title': 'Solution',\n",
       "    'content': 'Introducing a solar-powered deep freezer for sustainable ice block production.'},\n",
       "   {'slide_number': 3,\n",
       "    'title': 'Target Audience',\n",
       "    'content': 'Households, businesses selling drinks, and event organizers in Accra.'},\n",
       "   {'slide_number': 4,\n",
       "    'title': 'Unique Selling Proposition',\n",
       "    'content': 'Providing eco-friendly ice blocks using solar energy.'},\n",
       "   {'slide_number': 5,\n",
       "    'title': 'Revenue Streams',\n",
       "    'content': 'Primary revenue from direct sales of ice blocks.'}]},\n",
       " 'market_analysis': {'market_size': 'The ice block industry in Accra is estimated to be worth $500,000 annually.',\n",
       "  'competition': 'Competition exists from traditional ice block producers using grid electricity.',\n",
       "  'trends': 'Increasing demand for sustainable and eco-friendly products in Accra.'},\n",
       " 'financial_proposition': {'total_startup_investment': '10000 USD',\n",
       "  'break_even_per_month': '10000 USD',\n",
       "  'daily_projection': '333 USD/day'},\n",
       " 'risk_analysis': {'risks': ['Dependency on consistent sunlight for solar power',\n",
       "   'Fluctuating demand for ice blocks based on seasons or events',\n",
       "   'Competition from established ice block producers'],\n",
       "  'risk_mitigation_strategy': 'Diversification of product offerings, marketing strategies to educate on benefits of solar-powered ice blocks'}}"
      ]
     },
     "execution_count": 8,
     "metadata": {},
     "output_type": "execute_result"
    }
   ],
   "source": [
    "chain.invoke({\"business_industry\": \"Ice block\",\n",
    "              \"country\": \"Ghana\",\n",
    "              \"income_generation_strategy\": \"selling of the ice block\",\n",
    "              \"problems\": \"there is light issue in our area and many people dont have ice block to chill their water or drinks for those that sell drinks in their store\",\n",
    "              \"location\": \"Accra\",\n",
    "              \"solutions\": \"to have a solar powered deep freezer to be making ice blocks for these audience to buy\",\n",
    "              \"main_expenses\": \"deep freezer, solar setup, logistics\",\n",
    "              \"target_audience\": \"I dont know yet\",\n",
    "              \"business_uniqueness\": \"I dont know\",\n",
    "              \"monthly_profit\": \"80000\",\n",
    "              \"bmc_pitch_deck\": \"pitch deck\"})"
   ]
  },
  {
   "cell_type": "code",
   "execution_count": null,
   "id": "ff61ff10",
   "metadata": {},
   "outputs": [],
   "source": []
  }
 ],
 "metadata": {
  "kernelspec": {
   "display_name": "Python 3 (ipykernel)",
   "language": "python",
   "name": "python3"
  },
  "language_info": {
   "codemirror_mode": {
    "name": "ipython",
    "version": 3
   },
   "file_extension": ".py",
   "mimetype": "text/x-python",
   "name": "python",
   "nbconvert_exporter": "python",
   "pygments_lexer": "ipython3",
   "version": "3.11.5"
  }
 },
 "nbformat": 4,
 "nbformat_minor": 5
}
